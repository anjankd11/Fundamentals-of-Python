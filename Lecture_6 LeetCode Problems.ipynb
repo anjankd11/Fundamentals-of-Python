{
 "cells": [
  {
   "cell_type": "markdown",
   "id": "17051aaf",
   "metadata": {},
   "source": [
    "Power of Two\n",
    "\n",
    "Given an integer n, return true if it is a power of two. Otherwise, return false.\n",
    "\n",
    "An integer n is a power of two, if there exists an integer x such that n == 2^x.\n",
    "\n",
    "Example 1:\n",
    "Input: n = 1\n",
    "Output: true\n",
    "Explanation: 2^0 = 1\n",
    "\n",
    "Example 2:\n",
    "Input: n = 16\n",
    "Output: true\n",
    "Explanation: 2^4 = 16\n",
    "\n",
    "Example 3:\n",
    "Input: n = 3\n",
    "Output: false\n",
    "\n",
    "Example 4:\n",
    "Input: n = 4\n",
    "Output: true\n",
    "\n",
    "Example 5:\n",
    "Input: n = 5\n",
    "Output: false\n",
    "\n",
    "n == 2^x\n",
    "=> log(n) = log(2^x)\n",
    "=> log(n) = x*log(2)\n",
    "=> x = log(n)/log(2)"
   ]
  },
  {
   "cell_type": "code",
   "execution_count": 9,
   "id": "e268ea36",
   "metadata": {},
   "outputs": [
    {
     "name": "stdout",
     "output_type": "stream",
     "text": [
      "True\n",
      "-----------------------------\n",
      "True\n",
      "-----------------------------\n",
      "False\n",
      "-----------------------------\n",
      "True\n",
      "-----------------------------\n",
      "False\n"
     ]
    }
   ],
   "source": [
    "import math\n",
    "\n",
    "def isPowerOfTwo(n):\n",
    "\n",
    "    if n <= 0:\n",
    "        return False\n",
    "\n",
    "    x = math.log10(n)/math.log10(2)\n",
    "    return n == 2**int(x)\n",
    "p1_example_1 = isPowerOfTwo(1)\n",
    "print(p1_example_1)\n",
    "\n",
    "print(\"-----------------------------\")\n",
    "\n",
    "p1_example_2 = isPowerOfTwo(16)\n",
    "print(p1_example_2)\n",
    "\n",
    "print(\"-----------------------------\")\n",
    "\n",
    "p1_example_3 = isPowerOfTwo(3)\n",
    "print(p1_example_3)\n",
    "\n",
    "print(\"-----------------------------\")\n",
    "\n",
    "p1_example_4 = isPowerOfTwo(4)\n",
    "print(p1_example_4)\n",
    "\n",
    "print(\"-----------------------------\")\n",
    "\n",
    "p1_example_5 = isPowerOfTwo(5)\n",
    "print(p1_example_5)"
   ]
  },
  {
   "cell_type": "markdown",
   "id": "7f3dc390",
   "metadata": {},
   "source": [
    "Contains Duplicate\n",
    "\n",
    "Given an integer array nums, return true if any value appears at least twice in the array, and return false if every element is distinct.\n",
    "\n",
    "Example 1:\n",
    "Input: nums = [1,2,3,1]\n",
    "Output: true\n",
    "\n",
    "Example 2:\n",
    "Input: nums = [1,2,3,4]\n",
    "Output: false\n",
    "\n",
    "Example 3:\n",
    "Input: nums = [1,1,1,3,3,4,3,2,4,2]\n",
    "Output: true"
   ]
  },
  {
   "cell_type": "code",
   "execution_count": 10,
   "id": "7b3591e5",
   "metadata": {},
   "outputs": [
    {
     "name": "stdout",
     "output_type": "stream",
     "text": [
      "True\n",
      "-----------------------------\n",
      "False\n",
      "-----------------------------\n",
      "True\n"
     ]
    }
   ],
   "source": [
    "def containsDuplicate(nums):\n",
    "\n",
    "    # solution 1\n",
    "    return len(nums) != len(set(nums))\n",
    "p2_example_1 = containsDuplicate([1,2,3,1])\n",
    "print(p2_example_1)\n",
    "\n",
    "print(\"-----------------------------\")\n",
    "\n",
    "p2_example_2 = containsDuplicate([1,2,3,4])\n",
    "print(p2_example_2)\n",
    "\n",
    "print(\"-----------------------------\")\n",
    "\n",
    "p2_example_3 = containsDuplicate([1,1,1,3,3,4,3,2,4,2])\n",
    "print(p2_example_3)"
   ]
  },
  {
   "cell_type": "markdown",
   "id": "8c54ebfc",
   "metadata": {},
   "source": [
    "Two Sum\n",
    "\n",
    "Given an array of integers nums and an integer target, return indices of the two numbers such that they add up to target.\n",
    "\n",
    "You may assume that each input would have exactly one solution, and you may not use the same element twice.\n",
    "\n",
    "You can return the answer in any order.\n",
    "\n",
    "Example 1:\n",
    "Input: nums = [2,7,11,15], target = 9\n",
    "Output: [0,1]\n",
    "Output: Because nums[0] + nums[1] == 9, we return [0, 1].\n",
    "\n",
    "Example 2:\n",
    "Input: nums = [3,2,4], target = 6\n",
    "Output: [1,2]\n",
    "\n",
    "Example 3:\n",
    "Input: nums = [3,3], target = 6\n",
    "Output: [0,1]"
   ]
  },
  {
   "cell_type": "code",
   "execution_count": 11,
   "id": "d9c80852",
   "metadata": {},
   "outputs": [],
   "source": [
    "def twoSum(nums, target):\n",
    "\n",
    "    val_index_dict = {}\n",
    "\n",
    "    for index in range(0, len(nums)):\n",
    "        goal = target - nums[index]\n",
    "        print(\"item = \", nums[index], \"goal = \", goal)\n",
    "\n",
    "        if(goal in val_index_dict):\n",
    "            return [val_index_dict[goal], index]\n",
    "\n",
    "        val_index_dict[nums[index]] = index\n",
    "        print(\"dictionary = \", val_index_dict)"
   ]
  },
  {
   "cell_type": "markdown",
   "id": "cc1cc80a",
   "metadata": {},
   "source": [
    "Valid Perfect Square\n",
    "\n",
    "Given a positive integer num, write a function which returns True if num is a perfect square else False.\n",
    "\n",
    "Example 1:\n",
    "Input: num = 16\n",
    "Output: true\n",
    "\n",
    "Example 2:\n",
    "Input: num = 14\n",
    "Output: false"
   ]
  },
  {
   "cell_type": "code",
   "execution_count": 8,
   "id": "9505562f",
   "metadata": {},
   "outputs": [
    {
     "name": "stdout",
     "output_type": "stream",
     "text": [
      "square root =  3.7416573867739413\n",
      "square root (integer part only) =  3\n",
      "False\n",
      "----------------------------------------\n",
      "square root =  4.0\n",
      "square root (integer part only) =  4\n",
      "True\n"
     ]
    }
   ],
   "source": [
    "def isPerfectSquare(num):\n",
    "    \n",
    "    print(\"square root = \", num**0.5)\n",
    "    \n",
    "    print(\"square root (integer part only) = \", int(num**0.5))\n",
    "    \n",
    "    return int(num**0.5) == num**0.5\n",
    "p4_example_1 = isPerfectSquare(14)\n",
    "print(p4_example_1)\n",
    "print(\"----------------------------------------\")\n",
    "\n",
    "p4_example_2 = isPerfectSquare(16)\n",
    "print(p4_example_2)\n"
   ]
  }
 ],
 "metadata": {
  "kernelspec": {
   "display_name": "Python 3",
   "language": "python",
   "name": "python3"
  },
  "language_info": {
   "codemirror_mode": {
    "name": "ipython",
    "version": 3
   },
   "file_extension": ".py",
   "mimetype": "text/x-python",
   "name": "python",
   "nbconvert_exporter": "python",
   "pygments_lexer": "ipython3",
   "version": "3.8.8"
  }
 },
 "nbformat": 4,
 "nbformat_minor": 5
}
