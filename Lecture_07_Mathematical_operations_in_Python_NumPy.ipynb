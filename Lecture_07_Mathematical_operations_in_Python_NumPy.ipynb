{
  "cells": [
    {
      "cell_type": "markdown",
      "metadata": {
        "id": "Uf-h3oxFDn4P"
      },
      "source": [
        "# Lecture 07: Mathematical operations in Python: NumPy\n"
      ]
    },
    {
      "cell_type": "markdown",
      "metadata": {
        "id": "7ZWTSb6BDn4U"
      },
      "source": [
        "#### Comparison of List and NumPy array"
      ]
    },
    {
      "cell_type": "code",
      "execution_count": 18,
      "metadata": {
        "id": "AC44yXKcDn4V",
        "outputId": "5417d8db-d3be-4336-c64e-9c9d51946a91",
        "colab": {
          "base_uri": "https://localhost:8080/"
        }
      },
      "outputs": [
        {
          "output_type": "stream",
          "name": "stdout",
          "text": [
            "[1, 2, 3, 4, 5, 6, 8, 45, 6, 7, 8, 9]\n"
          ]
        }
      ],
      "source": [
        "list_1=[1,2,3,4,5,6]\n",
        "list_2=[8,45,6,7,8,9]\n",
        "\n",
        "list_add= list_1+list_2\n",
        "print(list_add)\n",
        "\n",
        "#list_sub= list_2-list_1 not pssible , but possible for set\n",
        "#print(list_sub)\n",
        "\n",
        "\n",
        "#list_mul= list_1*list_2 not possible, also division\n",
        "#print(list_mul)"
      ]
    },
    {
      "cell_type": "code",
      "execution_count": 19,
      "metadata": {
        "id": "BoVGdXuDDn4W",
        "outputId": "e72fa5c9-0f76-42da-a34a-37b363ec03e5",
        "colab": {
          "base_uri": "https://localhost:8080/"
        }
      },
      "outputs": [
        {
          "output_type": "execute_result",
          "data": {
            "text/plain": [
              "{7, 8, 9, 45}"
            ]
          },
          "metadata": {},
          "execution_count": 19
        }
      ],
      "source": [
        "set(list_2)-set(list_1)"
      ]
    },
    {
      "cell_type": "code",
      "execution_count": 20,
      "metadata": {
        "id": "WyawZC6lDn4W"
      },
      "outputs": [],
      "source": [
        "#numpy, pandas, matplotlib, scikit-learn, seaborn\n",
        "import numpy as np"
      ]
    },
    {
      "cell_type": "code",
      "source": [
        "arr_1 = np.array([1,2,3,4,5,6,7,8,9])\n",
        "arr_2 = np.array([1,-2,3,-4,5,-6,7,-8,9])\n",
        "\n",
        "print(type(arr_1))\n",
        "print(type(arr_2))\n",
        "print(arr_2.dtype)\n",
        "\n",
        "arr_add = arr_1 + arr_2\n",
        "print(\"addition of two array = \", arr_add)\n",
        "print(type(arr_add))\n",
        "\n",
        "# arr_add = np.add(arr_3, arr_4)\n",
        "# print(arr_add)\n",
        "\n",
        "arr_sub = arr_1 - arr_2\n",
        "print(\"subtraction of two array = \", arr_sub)\n",
        "\n",
        "# arr_sub = np.subtract(arr_3, arr_4)\n",
        "# print(arr_sub)\n",
        "\n",
        "arr_mul = arr_1 * arr_2\n",
        "print(\"multiplication of two array = \", arr_mul)\n",
        "\n",
        "# arr_mul = np.multiply(arr_3, arr_4)\n",
        "# print(arr_mul)\n",
        "\n",
        "arr_div = arr_1 / arr_2\n",
        "print(\"division of two array = \", arr_div)\n",
        "\n",
        "# arr_div = np.divide(arr_5, arr_6)\n",
        "# print(arr_div)\n",
        "\n",
        "arr_mod = np.mod(arr_1, arr_2)\n",
        "print(\"remainder after dividing two arrays = \", arr_mod)"
      ],
      "metadata": {
        "colab": {
          "base_uri": "https://localhost:8080/"
        },
        "id": "3WgGoBwsVLCU",
        "outputId": "1ea42424-00d8-4d61-9c06-c47277c728c4"
      },
      "execution_count": 21,
      "outputs": [
        {
          "output_type": "stream",
          "name": "stdout",
          "text": [
            "<class 'numpy.ndarray'>\n",
            "<class 'numpy.ndarray'>\n",
            "int64\n",
            "addition of two array =  [ 2  0  6  0 10  0 14  0 18]\n",
            "<class 'numpy.ndarray'>\n",
            "subtraction of two array =  [ 0  4  0  8  0 12  0 16  0]\n",
            "multiplication of two array =  [  1  -4   9 -16  25 -36  49 -64  81]\n",
            "division of two array =  [ 1. -1.  1. -1.  1. -1.  1. -1.  1.]\n",
            "remainder after dividing two arrays =  [0 0 0 0 0 0 0 0 0]\n"
          ]
        }
      ]
    },
    {
      "cell_type": "code",
      "execution_count": 22,
      "metadata": {
        "id": "XM33PqccDn4W",
        "outputId": "e8c2f298-4081-4318-f838-e4e4e36a1879",
        "colab": {
          "base_uri": "https://localhost:8080/"
        }
      },
      "outputs": [
        {
          "output_type": "stream",
          "name": "stdout",
          "text": [
            "[1 2 3 4 5 6]\n",
            "[ 8 45  6  7  8  9]\n",
            "[ 9 47  9 11 13 15]\n",
            "[ -7 -43  -3  -3  -3  -3]\n",
            "[ 8 90 18 28 40 54]\n",
            "[0.125      0.04444444 0.5        0.57142857 0.625      0.66666667]\n"
          ]
        }
      ],
      "source": [
        "#pip install numpy\n",
        "\n",
        "import numpy as np\n",
        "arr_1=np.array(list_1)\n",
        "arr_2=np.array(list_2)\n",
        "\n",
        "print(arr_1)\n",
        "print(arr_2)\n",
        "\n",
        "arr_add=arr_1+arr_2\n",
        "print(arr_add)\n",
        "\n",
        "arr_sub=arr_1-arr_2\n",
        "print(arr_sub)\n",
        "\n",
        "arr_mul=arr_1*arr_2\n",
        "print(arr_mul)\n",
        "\n",
        "arr_div=arr_1/arr_2\n",
        "print(arr_div)\n"
      ]
    },
    {
      "cell_type": "code",
      "source": [
        "import numpy as np\n",
        "\n",
        "arr_3= np.array([1,2])\n",
        "\n",
        "#cannot +=*/ if dimention not same"
      ],
      "metadata": {
        "id": "KjJpN1fbJXP1"
      },
      "execution_count": 23,
      "outputs": []
    },
    {
      "cell_type": "code",
      "source": [
        "import numpy as np\n",
        "\n",
        "arr_4= np.array([[1,2,3],\n",
        "                [4,5,6]])\n",
        "\n",
        "arr_5=np.array([[1,2,3],\n",
        "                [4,5,6]])\n",
        "arr_add2=arr_4+arr_5\n",
        "\n",
        "#arr_add2=np.add(arr_4+arr_5)\n",
        "print(arr_add2)\n",
        "\n",
        "arr_sub2=np.subtract(arr_4,arr_5)\n",
        "print(arr_sub2)\n",
        "arr_mul2=np.multiply(arr_4,arr_5)\n",
        "print(arr_mul2)\n",
        "print(arr_4.shape)\n",
        "print(type(arr_4))\n",
        "\n",
        "\n",
        "\n",
        "#matrix multiplication\n",
        "\n",
        "#np.matmul"
      ],
      "metadata": {
        "id": "FTFHfH9iJqRs",
        "outputId": "f78059e3-7aa7-433a-f9c1-b0cbfadd5bbd",
        "colab": {
          "base_uri": "https://localhost:8080/"
        }
      },
      "execution_count": 24,
      "outputs": [
        {
          "output_type": "stream",
          "name": "stdout",
          "text": [
            "[[ 2  4  6]\n",
            " [ 8 10 12]]\n",
            "[[0 0 0]\n",
            " [0 0 0]]\n",
            "[[ 1  4  9]\n",
            " [16 25 36]]\n",
            "(2, 3)\n",
            "<class 'numpy.ndarray'>\n"
          ]
        }
      ]
    },
    {
      "cell_type": "code",
      "source": [
        "arr_6=np.array([2.6,34,5.2,7,8,9,5,7,8])\n",
        "arr_7=np.array([2,34,5,7,8,9,5,7,8])\n",
        "arr_8=np.array([2,34,5,7,8,9,5,7,8])\n",
        "\n",
        "arr_pow=np.power(arr_6,arr_7)\n",
        "print(arr_pow)\n",
        "\n",
        "arr_sqr=np.square(arr_6)\n",
        "print(arr_sqr)\n",
        "\n",
        "arr_sqr=np.square(arr_6)\n",
        "print(arr_sqr)\n",
        "\n",
        "arr_abs=np.abs(arr_6)\n",
        "print(arr_abs)\n",
        "\n",
        "arr_ceil=np.ceil(arr_6) #ceiling\n",
        "print(arr_ceil)\n",
        "\n",
        "arr_floor=np.floor(arr_6)\n",
        "print(arr_floor)\n",
        "\n",
        "arr_round=np.round(arr_6)\n",
        "print(arr_round)"
      ],
      "metadata": {
        "id": "1F9gjKwqQ8KG",
        "outputId": "01684608-8f06-4adb-f690-e0c5ecccd253",
        "colab": {
          "base_uri": "https://localhost:8080/"
        }
      },
      "execution_count": 25,
      "outputs": [
        {
          "output_type": "stream",
          "name": "stdout",
          "text": [
            "[6.76000000e+00 1.17566389e+52 3.80204032e+03 8.23543000e+05\n",
            " 1.67772160e+07 3.87420489e+08 3.12500000e+03 8.23543000e+05\n",
            " 1.67772160e+07]\n",
            "[   6.76 1156.     27.04   49.     64.     81.     25.     49.     64.  ]\n",
            "[   6.76 1156.     27.04   49.     64.     81.     25.     49.     64.  ]\n",
            "[ 2.6 34.   5.2  7.   8.   9.   5.   7.   8. ]\n",
            "[ 3. 34.  6.  7.  8.  9.  5.  7.  8.]\n",
            "[ 2. 34.  5.  7.  8.  9.  5.  7.  8.]\n",
            "[ 3. 34.  5.  7.  8.  9.  5.  7.  8.]\n"
          ]
        }
      ]
    },
    {
      "cell_type": "markdown",
      "metadata": {
        "id": "CtcN4vUCDn4X"
      },
      "source": [
        "#### array sum"
      ]
    },
    {
      "cell_type": "code",
      "execution_count": 26,
      "metadata": {
        "id": "OWYsAKVRDn4X",
        "outputId": "a32c0f3d-3b48-4a88-f85f-6af4e82425f1",
        "colab": {
          "base_uri": "https://localhost:8080/"
        }
      },
      "outputs": [
        {
          "output_type": "stream",
          "name": "stdout",
          "text": [
            "170.8\n",
            "[ 4.6 68.  10.2 14.  16.  18.  10.  14.  16. ]\n",
            "[85.8 85. ]\n"
          ]
        }
      ],
      "source": [
        "arr_6=np.array([2.6,34,5.2,7,8,9,5,7,8])\n",
        "arr_7=np.array([2,34,5,7,8,9,5,7,8])\n",
        "\n",
        "arr_sum=np.sum([arr_6,arr_7])\n",
        "print(arr_sum)\n",
        "\n",
        "col_sum=np.sum([arr_6,arr_7], axis=0)\n",
        "print(col_sum)\n",
        "\n",
        "row_sum=np.sum([arr_6,arr_7], axis=1)\n",
        "print(row_sum)"
      ]
    },
    {
      "cell_type": "markdown",
      "metadata": {
        "id": "3_8iClZQDn4Y"
      },
      "source": [
        "#### array product"
      ]
    },
    {
      "cell_type": "code",
      "execution_count": 27,
      "metadata": {
        "id": "BViLh2pjDn4Y",
        "outputId": "e690b65b-6e17-4f19-aafa-f0f115bad882",
        "colab": {
          "base_uri": "https://localhost:8080/"
        }
      },
      "outputs": [
        {
          "output_type": "stream",
          "name": "stdout",
          "text": [
            "2394243455385600.5\n",
            "[   4. 1156.   26.   49.   64.   81.   25.   49.   64.]\n",
            "[49900032.00000001 47980800.        ]\n"
          ]
        }
      ],
      "source": [
        "arr_6=np.array([2,34,5.2,7,8,9,5,7,8])\n",
        "arr_7=np.array([2,34,5,7,8,9,5,7,8])\n",
        "\n",
        "arr_prod=np.prod([arr_6,arr_7])\n",
        "print(arr_prod)\n",
        "\n",
        "col_prod=np.prod([arr_6,arr_7],axis=0)\n",
        "print(col_prod)\n",
        "\n",
        "row_prod=np.prod([arr_6,arr_7],axis=1)\n",
        "print(row_prod)"
      ]
    },
    {
      "cell_type": "markdown",
      "metadata": {
        "id": "JJy-bn3aDn4Z"
      },
      "source": [
        "#### Creating new matrix"
      ]
    },
    {
      "cell_type": "code",
      "execution_count": 28,
      "metadata": {
        "id": "jpu6ze3PDn4Z",
        "colab": {
          "base_uri": "https://localhost:8080/"
        },
        "outputId": "1b2a3586-4a2c-417f-d267-3a46063a5483"
      },
      "outputs": [
        {
          "output_type": "stream",
          "name": "stdout",
          "text": [
            "[[1. 0. 0.]\n",
            " [0. 1. 0.]\n",
            " [0. 0. 1.]]\n",
            "[[1. 1. 1.]\n",
            " [1. 1. 1.]\n",
            " [1. 1. 1.]]\n"
          ]
        }
      ],
      "source": [
        "identity_matrix = np.eye(3)\n",
        "print(identity_matrix)\n",
        "\n",
        "identity_ones = np.ones((3,3))\n",
        "print(identity_ones)"
      ]
    },
    {
      "cell_type": "markdown",
      "metadata": {
        "id": "E8Db6CKcDn4Y"
      },
      "source": [
        "#### Matrix operation"
      ]
    },
    {
      "cell_type": "code",
      "execution_count": 29,
      "metadata": {
        "id": "Dl6-5svXDn4Y",
        "outputId": "a9eb2a0e-1d8b-4370-e143-16c4865c10c3",
        "colab": {
          "base_uri": "https://localhost:8080/"
        }
      },
      "outputs": [
        {
          "output_type": "stream",
          "name": "stdout",
          "text": [
            "[[1. 0. 0.]\n",
            " [0. 1. 0.]\n",
            " [0. 0. 1.]]\n",
            "[[1. 1. 1.]\n",
            " [1. 1. 1.]\n",
            " [1. 1. 1.]]\n",
            "[[1. 1. 1.]\n",
            " [1. 1. 1.]\n",
            " [1. 1. 1.]]\n",
            "[1. 1. 1.]\n"
          ]
        }
      ],
      "source": [
        "id_mat= np.eye(3)\n",
        "print(id_mat)\n",
        "\n",
        "one_matrix=np.ones((3,3))\n",
        "print(one_matrix)\n",
        "\n",
        "arr_matmul=np.matmul(id_mat,one_matrix)\n",
        "print(arr_matmul)\n",
        "\n",
        "arr_diag=np.diag(id_mat)\n",
        "print(arr_diag)"
      ]
    },
    {
      "cell_type": "markdown",
      "metadata": {
        "id": "vzqDCeNODn4Z"
      },
      "source": [
        "#### Array indexing and slicing"
      ]
    },
    {
      "cell_type": "code",
      "execution_count": 30,
      "metadata": {
        "id": "4yuySxfpDn4Z",
        "outputId": "34d4213c-9cdd-4c8e-8849-be9ced47f7af",
        "colab": {
          "base_uri": "https://localhost:8080/"
        }
      },
      "outputs": [
        {
          "output_type": "stream",
          "name": "stdout",
          "text": [
            "[8. 9. 5. 7.]\n"
          ]
        }
      ],
      "source": [
        "arr_1=np.array([2,34,5.2,7,8,9,5,7,8])\n",
        "\n",
        "print(arr_1[-5:-1])\n",
        "# print(arr_3[0])\n",
        "# print(arr_3[1])\n",
        "# print(arr_3[0,0])\n",
        "# print(arr_3[0,1])\n",
        "# print(arr_3[0,2])\n",
        "# print(arr_3[1,0])\n",
        "# print(arr_3[1,1])\n",
        "# print(arr_3[1,2])\n",
        "\n",
        "# print(arr_3[0,-1])\n",
        "# print(arr_3[0,-2])\n",
        "# print(arr_3[0,-3])\n",
        "\n",
        "# print(arr_3[1:])"
      ]
    },
    {
      "cell_type": "code",
      "source": [
        "arr_4=np.array([[1,2,3],[4,5,6]])\n",
        "\n",
        "print(arr_4[:,1:])"
      ],
      "metadata": {
        "id": "QeMXx6TKYbgL",
        "outputId": "1cc0556b-9ebc-4fef-c2b6-96cc572b199f",
        "colab": {
          "base_uri": "https://localhost:8080/"
        }
      },
      "execution_count": 31,
      "outputs": [
        {
          "output_type": "stream",
          "name": "stdout",
          "text": [
            "[[2 3]\n",
            " [5 6]]\n"
          ]
        }
      ]
    },
    {
      "cell_type": "markdown",
      "metadata": {
        "id": "7P2cMa-RDn4a"
      },
      "source": [
        "#### numpy array filtering"
      ]
    },
    {
      "cell_type": "code",
      "execution_count": 32,
      "metadata": {
        "id": "VF4vdzmYDn4a",
        "colab": {
          "base_uri": "https://localhost:8080/"
        },
        "outputId": "9ed0207b-e44f-4e68-d02c-59fa71f5076c"
      },
      "outputs": [
        {
          "output_type": "stream",
          "name": "stdout",
          "text": [
            "index of value 4 :  (array([3, 5, 6]),)\n",
            "index of the even numbers in the array :  (array([1, 3, 5, 6]),)\n",
            "index of the odd numbers in the array :  (array([0, 2, 4]),)\n"
          ]
        }
      ],
      "source": [
        "arr = np.array([1, 2, 3, 4, 5, 4, 4])\n",
        "\n",
        "find_four = np.where(arr == 4)\n",
        "find_even = np.where(arr%2 == 0)\n",
        "find_odd = np.where(arr%2 == 1)\n",
        "\n",
        "print(\"index of value 4 : \", find_four)\n",
        "print(\"index of the even numbers in the array : \", find_even)\n",
        "print(\"index of the odd numbers in the array : \", find_odd)"
      ]
    },
    {
      "cell_type": "code",
      "execution_count": 33,
      "metadata": {
        "id": "RNEgwG0DDn4a",
        "colab": {
          "base_uri": "https://localhost:8080/"
        },
        "outputId": "90b6b986-7f06-4ba1-ced6-7ec8587f8004"
      },
      "outputs": [
        {
          "output_type": "stream",
          "name": "stdout",
          "text": [
            "[False False False  True  True  True  True]\n",
            "[4 5 4 4]\n"
          ]
        }
      ],
      "source": [
        "find = arr[arr >= 4]\n",
        "\n",
        "print(arr >= 4)\n",
        "print(find)\n"
      ]
    }
  ],
  "metadata": {
    "kernelspec": {
      "display_name": "Python 3",
      "language": "python",
      "name": "python3"
    },
    "language_info": {
      "codemirror_mode": {
        "name": "ipython",
        "version": 3
      },
      "file_extension": ".py",
      "mimetype": "text/x-python",
      "name": "python",
      "nbconvert_exporter": "python",
      "pygments_lexer": "ipython3",
      "version": "3.8.5"
    },
    "colab": {
      "name": "Lecture 07: Mathematical operations in Python: NumPy",
      "provenance": []
    }
  },
  "nbformat": 4,
  "nbformat_minor": 0
}