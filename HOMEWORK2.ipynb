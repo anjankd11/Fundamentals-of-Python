{
  "nbformat": 4,
  "nbformat_minor": 0,
  "metadata": {
    "colab": {
      "name": "Python_HW2.ipynb",
      "provenance": []
    },
    "kernelspec": {
      "name": "python3",
      "display_name": "Python 3"
    },
    "language_info": {
      "name": "python"
    }
  },
  "cells": [
    {
      "cell_type": "markdown",
      "source": [
        "#              Fundamental of Programming with Python Course\n",
        "#                                  Homework 2\n",
        "#                              Problems of LeetCode"
      ],
      "metadata": {
        "id": "HaXcV_AAuwro"
      }
    },
    {
      "cell_type": "code",
      "execution_count": 34,
      "metadata": {
        "id": "kB-hggAxuVpr",
        "colab": {
          "base_uri": "https://localhost:8080/"
        },
        "outputId": "dc1f0d80-810c-469f-a15c-12a19d65505c"
      },
      "outputs": [
        {
          "output_type": "stream",
          "name": "stdout",
          "text": [
            "504\n"
          ]
        }
      ],
      "source": [
        "#Problem 1\n",
        "#Given an integer array nums, find three numbers whose product is maximum and return the maximum product.\n",
        "\n",
        "\n",
        "def maximumProduct(nums):\n",
        "     \n",
        "        #sorting the list in ascending order\n",
        "        nums.sort()   \n",
        "        lenght=len(nums)\n",
        "        #the max product will either be the product of last three largest number\n",
        "        max1= nums[0]*nums[1]*nums[lenght-1] \n",
        "        #or the max product will be the smallest two negative numbers and the largest positive number\n",
        "        max2=nums[lenght-3]*nums[lenght-2]*nums[lenght-1]\n",
        "        if (max1>max2):\n",
        "            print(max1)\n",
        "        else:\n",
        "            print(max2)\n",
        "maximumProduct([1,2,3,4,8,7,6,9])\n"
      ]
    },
    {
      "cell_type": "code",
      "source": [
        "#Problem 2\n",
        "#You are given an m x n integer grid accounts where accounts[i][j] is the amount of money the i​​​​​​​​​​​th​​​​ customer has in the j​​​​​​​​​​​th​​​​ bank. Return the wealth that the richest customer has.\n",
        "\n",
        "def maximumWealth(accounts):\n",
        "        \n",
        "        #let us assume the variable for maximum wealth is 0 in the beginning\n",
        "        max_wealth=0\n",
        "        \n",
        "        #lets iterate every row of acccounts and sum the value in every column, so we get the total wealth of each person \n",
        "        for i in accounts: \n",
        "            wealth=sum(i)\n",
        "            \n",
        "            #compare the maximum and the current wealth and replace with thr greater\n",
        "            max_wealth=max(max_wealth,wealth)\n",
        "        \n",
        "        print(max_wealth)  \n",
        "  \n",
        "maximumWealth([[3,4,5],[6,7,8],[9,7,6]])"
      ],
      "metadata": {
        "id": "GzZUJdKMvnTp",
        "colab": {
          "base_uri": "https://localhost:8080/"
        },
        "outputId": "4daaf5ca-1600-4907-b35c-0582358e1967"
      },
      "execution_count": 35,
      "outputs": [
        {
          "output_type": "stream",
          "name": "stdout",
          "text": [
            "22\n"
          ]
        }
      ]
    },
    {
      "cell_type": "code",
      "source": [
        "#Problem 3\n",
        "#Given the array nums consisting of 2n elements in the form [x1,x2,...,xn,y1,y2,...,yn]. Return the array in the form [x1,y1,x2,y2,...,xn,yn].\n",
        "\n",
        "def shuffle(nums, n):\n",
        "        \n",
        "        #defining a new list to sort the data in the commanded way\n",
        "        new_list=[]\n",
        "        \n",
        "        #this loop will take one by one number from the previous list and add it to the new list in the mentioned order\n",
        "        for i in range(n):\n",
        "            new_list.append(nums[i])\n",
        "            new_list.append(nums[n+i])\n",
        "            \n",
        "        print(new_list)\n",
        "\n",
        "shuffle([1,2,3,4,5,6,7,8],4)"
      ],
      "metadata": {
        "id": "aViWOAfVv3Su",
        "colab": {
          "base_uri": "https://localhost:8080/"
        },
        "outputId": "058d5191-9f34-4a83-9342-9f8bd2f6fee9"
      },
      "execution_count": 37,
      "outputs": [
        {
          "output_type": "stream",
          "name": "stdout",
          "text": [
            "[1, 5, 2, 6, 3, 7, 4, 8]\n"
          ]
        }
      ]
    },
    {
      "cell_type": "code",
      "source": [
        "#Problem 4\n",
        "#Given a positive integer num, write a function which returns True if num is a perfect square else False.\n",
        "\n",
        "def isPerfectSquare(num):\n",
        "        return(num**0.5==int(num**0.5))\n",
        "\n",
        "isPerfectSquare(2147395600)"
      ],
      "metadata": {
        "id": "5pgjyNaZy-VQ",
        "colab": {
          "base_uri": "https://localhost:8080/"
        },
        "outputId": "5288675c-cf40-484c-b758-9142147ea5ee"
      },
      "execution_count": 40,
      "outputs": [
        {
          "output_type": "execute_result",
          "data": {
            "text/plain": [
              "True"
            ]
          },
          "metadata": {},
          "execution_count": 40
        }
      ]
    }
  ]
}
