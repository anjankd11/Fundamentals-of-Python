{
  "nbformat": 4,
  "nbformat_minor": 0,
  "metadata": {
    "colab": {
      "name": "HOMEWORK3.ipynb",
      "provenance": []
    },
    "kernelspec": {
      "name": "python3",
      "display_name": "Python 3"
    },
    "language_info": {
      "name": "python"
    }
  },
  "cells": [
    {
      "cell_type": "markdown",
      "source": [
        "HOMEWORK 3 "
      ],
      "metadata": {
        "id": "3ljHAiBM25Yy"
      }
    },
    {
      "cell_type": "code",
      "source": [
        "#Problem 1\n",
        "#Given an integer n, return true if it is a power of two. Otherwise, return false but what if the input integer is negative?\n",
        "\n",
        "#Though I am not sure, but is it possible to be a negative number which is a power of 2 ???? but i implemented what I understood you told em to do\n",
        "\n",
        "import math\n",
        "\n",
        "def isPowerOfTwo(n):\n",
        "    if n <= 0:\n",
        "          #using absolute value to convert it to a positve number\n",
        "          n=abs(n) \n",
        "    x = math.log10(n)/math.log10(2)\n",
        "    return n == 2**round(x)\n",
        "\n",
        "print(isPowerOfTwo(-8))"
      ],
      "metadata": {
        "colab": {
          "base_uri": "https://localhost:8080/"
        },
        "id": "L_7wyPcwSLUr",
        "outputId": "82e23f89-807f-4824-b39f-57a15aeb6eac"
      },
      "execution_count": 88,
      "outputs": [
        {
          "output_type": "stream",
          "name": "stdout",
          "text": [
            "True\n"
          ]
        }
      ]
    },
    {
      "cell_type": "code",
      "source": [
        "#Problem 2\n",
        "#Given an integer array nums, return true if any value appears at least twice in the array, and return false if every element is distinct.\n",
        "def containsDuplicate(nums): \n",
        "     l =  len(nums)\n",
        "     #sorting it because if there are duplicate elements then they will be next to each other and it will be easier to find\n",
        "     nums.sort()\n",
        "     for i in range(l-1):\n",
        "         if nums[i] == nums[i+1]:\n",
        "            return True\n",
        "\n",
        "nums=[1,2,3,4,56,7,34,4,6]\n",
        "print(containsDuplicate(nums))"
      ],
      "metadata": {
        "colab": {
          "base_uri": "https://localhost:8080/"
        },
        "id": "0tQslT9bSML4",
        "outputId": "3722f049-e5d2-4aa0-9bff-a5f5c9635dfa"
      },
      "execution_count": 87,
      "outputs": [
        {
          "output_type": "stream",
          "name": "stdout",
          "text": [
            "True\n"
          ]
        }
      ]
    },
    {
      "cell_type": "code",
      "execution_count": 60,
      "metadata": {
        "colab": {
          "base_uri": "https://localhost:8080/"
        },
        "id": "6Fu4bRbrAFIs",
        "outputId": "7feef0c5-8c26-4d52-b51e-aff9816d1ab8"
      },
      "outputs": [
        {
          "output_type": "stream",
          "name": "stdout",
          "text": [
            "[0, 1]\n"
          ]
        }
      ],
      "source": [
        "#Problem 3\n",
        "#Given an array of integers nums and an integer target, return indices of the two numbers such that they add up to target.\n",
        "\n",
        "\n",
        "def twoSum(nums, target):\n",
        "      \n",
        "      #creating a new list with the same lenght as the original \n",
        "      num_list = list(range(len(nums)))\n",
        "\n",
        "      #enumerating the new list so that we can match each number with its index\n",
        "      for i,num in enumerate(num_list):\n",
        "          for num_other in num_list[i+1:]:\n",
        "              if nums[num] + nums[num_other] == target:\n",
        "                  return [num, num_other]\n",
        "\n",
        "nums=[7,2,11,13]\n",
        "target=9\n",
        "print(twoSum(nums, target))"
      ]
    }
  ]
}