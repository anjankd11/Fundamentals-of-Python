{
  "nbformat": 4,
  "nbformat_minor": 0,
  "metadata": {
    "colab": {
      "name": "Lecture 04: Python Data Structure",
      "provenance": [],
      "collapsed_sections": []
    },
    "kernelspec": {
      "name": "python3",
      "display_name": "Python 3"
    },
    "language_info": {
      "name": "python"
    }
  },
  "cells": [
    {
      "cell_type": "markdown",
      "source": [
        "# Lecture 04: Python Data Structure\n",
        "\n"
      ],
      "metadata": {
        "id": "P3wcQSYIl361"
      }
    },
    {
      "cell_type": "markdown",
      "source": [
        "#### List Manipulation:\n",
        "- Change list elements\n",
        "- Add list elements\n",
        "- Remove list elements"
      ],
      "metadata": {
        "id": "SzGBkCVGlxNh"
      }
    },
    {
      "cell_type": "code",
      "source": [
        "family = [ \"abbu\" ,5.6,\"ammu\", 5.2, \"vaia\",6.0]"
      ],
      "metadata": {
        "id": "hglKTEEhl3OJ"
      },
      "execution_count": 20,
      "outputs": []
    },
    {
      "cell_type": "code",
      "source": [
        "print(type(family))"
      ],
      "metadata": {
        "id": "XsFdEDf9ANns",
        "outputId": "e3d5c1c0-fa2a-4679-d7d8-cb6bf557f431",
        "colab": {
          "base_uri": "https://localhost:8080/"
        }
      },
      "execution_count": 21,
      "outputs": [
        {
          "output_type": "stream",
          "name": "stdout",
          "text": [
            "<class 'list'>\n"
          ]
        }
      ]
    },
    {
      "cell_type": "markdown",
      "source": [
        "#### List Slicing"
      ],
      "metadata": {
        "id": "j8tqvNo4mZhh"
      }
    },
    {
      "cell_type": "code",
      "source": [
        "family[0:2]"
      ],
      "metadata": {
        "id": "XvxXz5RNAlRr",
        "outputId": "84d2acb2-6fe0-425f-dfcc-5a64692f76be",
        "colab": {
          "base_uri": "https://localhost:8080/"
        }
      },
      "execution_count": 22,
      "outputs": [
        {
          "output_type": "execute_result",
          "data": {
            "text/plain": [
              "['abbu', 5.6]"
            ]
          },
          "metadata": {},
          "execution_count": 22
        }
      ]
    },
    {
      "cell_type": "markdown",
      "source": [
        "#### Checking length of a string"
      ],
      "metadata": {
        "id": "pa15ELBkmcIk"
      }
    },
    {
      "cell_type": "code",
      "source": [
        "len(family)"
      ],
      "metadata": {
        "id": "529_5j4EmfkN",
        "outputId": "d4f7f90f-c790-4c35-f5ad-e04a525ab5c4",
        "colab": {
          "base_uri": "https://localhost:8080/"
        }
      },
      "execution_count": 23,
      "outputs": [
        {
          "output_type": "execute_result",
          "data": {
            "text/plain": [
              "6"
            ]
          },
          "metadata": {},
          "execution_count": 23
        }
      ]
    },
    {
      "cell_type": "markdown",
      "source": [
        "#### Checking the presence of an element in a list"
      ],
      "metadata": {
        "id": "2YQLidJjmgYJ"
      }
    },
    {
      "cell_type": "code",
      "source": [
        "print(\"abbu\" in family) "
      ],
      "metadata": {
        "id": "YH0i3kERmja7",
        "outputId": "fcaa50ef-b7bb-4fcc-e579-2625dd7d51d6",
        "colab": {
          "base_uri": "https://localhost:8080/"
        }
      },
      "execution_count": 24,
      "outputs": [
        {
          "output_type": "stream",
          "name": "stdout",
          "text": [
            "True\n"
          ]
        }
      ]
    },
    {
      "cell_type": "markdown",
      "source": [
        "#### Insert a new element in the list"
      ],
      "metadata": {
        "id": "VbGdhF5emj_t"
      }
    },
    {
      "cell_type": "code",
      "source": [
        "family.append(\"chotovai\")\n",
        "family.append(6.2)\n",
        "print(family)"
      ],
      "metadata": {
        "id": "_mcaKAaMmmuB",
        "outputId": "05181aad-874d-4850-d25c-ca9b24bf5664",
        "colab": {
          "base_uri": "https://localhost:8080/"
        }
      },
      "execution_count": 25,
      "outputs": [
        {
          "output_type": "stream",
          "name": "stdout",
          "text": [
            "['abbu', 5.6, 'ammu', 5.2, 'vaia', 6.0, 'chotovai', 6.2]\n"
          ]
        }
      ]
    },
    {
      "cell_type": "markdown",
      "source": [
        "#### How to reverse a list?"
      ],
      "metadata": {
        "id": "uRkRqAYTmnfz"
      }
    },
    {
      "cell_type": "code",
      "source": [
        "family.reverse()\n",
        "print(family)"
      ],
      "metadata": {
        "id": "CTgvn8-UmqIt",
        "outputId": "7636369a-51c1-4057-b303-f28ecf69bcca",
        "colab": {
          "base_uri": "https://localhost:8080/"
        }
      },
      "execution_count": 26,
      "outputs": [
        {
          "output_type": "stream",
          "name": "stdout",
          "text": [
            "[6.2, 'chotovai', 6.0, 'vaia', 5.2, 'ammu', 5.6, 'abbu']\n"
          ]
        }
      ]
    },
    {
      "cell_type": "code",
      "source": [
        "even=[2,6,8,6,4,6,8]"
      ],
      "metadata": {
        "id": "Qwj4rBboHdAo"
      },
      "execution_count": 27,
      "outputs": []
    },
    {
      "cell_type": "markdown",
      "source": [
        "#### How to count the frequency of a specific element in a list?"
      ],
      "metadata": {
        "id": "DkldL5HrmqnP"
      }
    },
    {
      "cell_type": "code",
      "source": [
        "even.count(6)"
      ],
      "metadata": {
        "id": "L6zyEYlrmvYG",
        "colab": {
          "base_uri": "https://localhost:8080/"
        },
        "outputId": "1f096d59-9c54-4514-ff6b-6c7975e77c9b"
      },
      "execution_count": 28,
      "outputs": [
        {
          "output_type": "execute_result",
          "data": {
            "text/plain": [
              "3"
            ]
          },
          "metadata": {},
          "execution_count": 28
        }
      ]
    },
    {
      "cell_type": "markdown",
      "source": [
        "#### How to remove an element from a list?"
      ],
      "metadata": {
        "id": "z1bZmWLAmv5X"
      }
    },
    {
      "cell_type": "code",
      "source": [
        "even.remove(8)\n",
        "even.remove(8)\n",
        "print(even)"
      ],
      "metadata": {
        "id": "0jKy-VeDmySD",
        "colab": {
          "base_uri": "https://localhost:8080/"
        },
        "outputId": "31d9cce3-d58e-4b3e-f472-17094e58a028"
      },
      "execution_count": 29,
      "outputs": [
        {
          "output_type": "stream",
          "name": "stdout",
          "text": [
            "[2, 6, 6, 4, 6]\n"
          ]
        }
      ]
    },
    {
      "cell_type": "markdown",
      "source": [
        "#### How to find the minimum value, maximum value and total sum of a list?"
      ],
      "metadata": {
        "id": "SC6D6L9gmzA6"
      }
    },
    {
      "cell_type": "code",
      "source": [
        "\n",
        "print(sum(even))\n",
        "print(max(even))"
      ],
      "metadata": {
        "id": "3zgjYU4Cm2oE",
        "colab": {
          "base_uri": "https://localhost:8080/"
        },
        "outputId": "f6744c4a-469c-467e-b4d7-672e73d166f7"
      },
      "execution_count": 30,
      "outputs": [
        {
          "output_type": "stream",
          "name": "stdout",
          "text": [
            "24\n",
            "6\n"
          ]
        }
      ]
    },
    {
      "cell_type": "markdown",
      "source": [
        "#### What will happen if you add two lists?"
      ],
      "metadata": {
        "id": "xvebtnXAm3Hf"
      }
    },
    {
      "cell_type": "code",
      "source": [
        "A = [9, 8, 7, 6]\n",
        "B = [99, 88, 77, 66]\n",
        "print(\"A + B = \", A + B) #will contain all the element of A and B\n"
      ],
      "metadata": {
        "id": "0hcWV5Ivm6ch",
        "outputId": "2927d367-75a7-45a5-9529-d463fcb50c4c",
        "colab": {
          "base_uri": "https://localhost:8080/"
        }
      },
      "execution_count": 31,
      "outputs": [
        {
          "output_type": "stream",
          "name": "stdout",
          "text": [
            "A + B =  [9, 8, 7, 6, 99, 88, 77, 66]\n"
          ]
        }
      ]
    },
    {
      "cell_type": "markdown",
      "source": [
        "#### How to sort a list?"
      ],
      "metadata": {
        "id": "pqLfHrItm69U"
      }
    },
    {
      "cell_type": "code",
      "source": [
        "even=[2,6,8,6,4,6,8]\n",
        "print(sorted(even, reverse=True,)) #descending \n",
        "print(sorted(even, reverse=False,)) #ascending default\n",
        "\n"
      ],
      "metadata": {
        "id": "U6eHA12Gm-Po",
        "outputId": "49e1d18d-ba9e-46b9-8859-7c0ed49fd0b1",
        "colab": {
          "base_uri": "https://localhost:8080/"
        }
      },
      "execution_count": 32,
      "outputs": [
        {
          "output_type": "stream",
          "name": "stdout",
          "text": [
            "[8, 8, 6, 6, 6, 4, 2]\n",
            "[2, 4, 6, 6, 6, 8, 8]\n"
          ]
        }
      ]
    },
    {
      "cell_type": "markdown",
      "source": [
        "# Tuple\n",
        "- tuple is used with parentheses\n",
        "- tuple is immutable --> most important"
      ],
      "metadata": {
        "id": "ZmrZle8tm-xu"
      }
    },
    {
      "cell_type": "code",
      "source": [
        "movie_name=(\"the\",\"fault\", \"in\", \"our\", \"stars\",0)\n",
        "print(type(movie_name))"
      ],
      "metadata": {
        "id": "pkUOMNS8nDmH",
        "outputId": "0c4f3d66-d201-4cff-bf21-b87c9cd5e282",
        "colab": {
          "base_uri": "https://localhost:8080/"
        }
      },
      "execution_count": 33,
      "outputs": [
        {
          "output_type": "stream",
          "name": "stdout",
          "text": [
            "<class 'tuple'>\n"
          ]
        }
      ]
    },
    {
      "cell_type": "markdown",
      "source": [
        "#### Tuple slicing"
      ],
      "metadata": {
        "id": "eq8LzpadnGKc"
      }
    },
    {
      "cell_type": "code",
      "source": [
        "print(movie_name[-1])\n",
        "print(movie_name[:2])"
      ],
      "metadata": {
        "id": "uwHP6mHKnHEz",
        "outputId": "8927f051-a859-45d4-d8e1-b4d9436a7065",
        "colab": {
          "base_uri": "https://localhost:8080/"
        }
      },
      "execution_count": 34,
      "outputs": [
        {
          "output_type": "stream",
          "name": "stdout",
          "text": [
            "0\n",
            "('the', 'fault')\n"
          ]
        }
      ]
    },
    {
      "cell_type": "markdown",
      "source": [
        "#### Immutability"
      ],
      "metadata": {
        "id": "U2Dens0JnIyC"
      }
    },
    {
      "cell_type": "code",
      "source": [
        "T = (8, 9, 'absolute', [1, 2])\n",
        "# T[0] = 2 #will throw an error"
      ],
      "metadata": {
        "id": "qxG96zmOnK61"
      },
      "execution_count": 35,
      "outputs": []
    },
    {
      "cell_type": "markdown",
      "source": [
        "You cannot change any value inside a tuple and you cannot insert or delete as well"
      ],
      "metadata": {
        "id": "emxdb2G9ILdr"
      }
    },
    {
      "cell_type": "markdown",
      "source": [
        "#### Similarities in List and Tuple:\n",
        "- The two data structures are both sequence data types that store collections of items.\n",
        "- Items of any data type can be stored in them.\n",
        "- Items can be accessed by their index.\n",
        "\n",
        "#### Difference between List and Tuple:\n",
        "- List is mutable, whereas a tuple is immutable. This means that lists can be changed, and tuples cannot be changed."
      ],
      "metadata": {
        "id": "f3QKjVzpnLnV"
      }
    },
    {
      "cell_type": "markdown",
      "source": [
        "#### Set\n",
        "- It works with a curly brace--> {}\n",
        "- One item can appear only once\n",
        "- You cannot slice item from set, unlike lists or tuples"
      ],
      "metadata": {
        "id": "Ngui8jJAna3S"
      }
    },
    {
      "cell_type": "code",
      "source": [
        "set_A={1,2,3,45,6}\n",
        "set_B={4,5,6,7,8,9}\n",
        "\n",
        "set_c=set_A.union(set_B)\n",
        "set_D=set_A.intersection(set_B)\n",
        "set_E=set_A.difference(set_B)\n",
        "print(set_c)\n",
        "print(set_D)\n",
        "print(set_E)"
      ],
      "metadata": {
        "id": "AtPq5nQrngpQ",
        "outputId": "a0d1b20c-7665-4918-c431-c3d4833a9fbe",
        "colab": {
          "base_uri": "https://localhost:8080/"
        }
      },
      "execution_count": 36,
      "outputs": [
        {
          "output_type": "stream",
          "name": "stdout",
          "text": [
            "{1, 2, 3, 4, 5, 6, 7, 8, 9, 45}\n",
            "{6}\n",
            "{1, 2, 3, 45}\n"
          ]
        }
      ]
    },
    {
      "cell_type": "markdown",
      "source": [
        "#### Dictionary"
      ],
      "metadata": {
        "id": "Hd1iyP2jnocr"
      }
    },
    {
      "cell_type": "code",
      "source": [
        "phone_contacts = {\"abul\":1111, \"babul\":2222, \"cabul\":3333, \"dabul\":4444}\n",
        "\n",
        "print(phone_contacts)\n",
        "print(phone_contacts[\"abul\"])\n",
        "print(phone_contacts[\"babul\"])\n",
        "print(phone_contacts[\"cabul\"])\n",
        "print(phone_contacts[\"dabul\"])\n",
        "\n",
        "print(phone_contacts.keys())\n",
        "print(phone_contacts.values())\n",
        "# print(phone_contacts.items())"
      ],
      "metadata": {
        "id": "aR-0zuDMnp6l",
        "colab": {
          "base_uri": "https://localhost:8080/"
        },
        "outputId": "ab4b0464-b13d-4f7f-bdbd-a81859e425ec"
      },
      "execution_count": 37,
      "outputs": [
        {
          "output_type": "stream",
          "name": "stdout",
          "text": [
            "{'abul': 1111, 'babul': 2222, 'cabul': 3333, 'dabul': 4444}\n",
            "1111\n",
            "2222\n",
            "3333\n",
            "4444\n",
            "dict_keys(['abul', 'babul', 'cabul', 'dabul'])\n",
            "dict_values([1111, 2222, 3333, 4444])\n"
          ]
        }
      ]
    },
    {
      "cell_type": "code",
      "source": [
        "# adding a new phone number of the existing contact\n",
        "phone_contacts[\"dabul\"] = [4444,5555]\n",
        "print(phone_contacts)"
      ],
      "metadata": {
        "id": "Pxu5_jdRnxjv",
        "colab": {
          "base_uri": "https://localhost:8080/"
        },
        "outputId": "17da20a2-9159-41a1-a9d4-83fc29e99571"
      },
      "execution_count": 38,
      "outputs": [
        {
          "output_type": "stream",
          "name": "stdout",
          "text": [
            "{'abul': 1111, 'babul': 2222, 'cabul': 3333, 'dabul': [4444, 5555]}\n"
          ]
        }
      ]
    },
    {
      "cell_type": "code",
      "source": [
        "# adding a new contact\n",
        "phone_contacts[\"fabul\"] = 6666\n",
        "print(phone_contacts)"
      ],
      "metadata": {
        "colab": {
          "base_uri": "https://localhost:8080/"
        },
        "id": "l1we8qpTIekL",
        "outputId": "0e253a44-4cc9-4589-ccc0-3e38be0e9a8f"
      },
      "execution_count": 39,
      "outputs": [
        {
          "output_type": "stream",
          "name": "stdout",
          "text": [
            "{'abul': 1111, 'babul': 2222, 'cabul': 3333, 'dabul': [4444, 5555], 'fabul': 6666}\n"
          ]
        }
      ]
    },
    {
      "cell_type": "code",
      "source": [
        "# updating a dictionary\n",
        "new_dict = {\"gabul\":7777}\n",
        "phone_contacts.update(new_dict)\n",
        "print(phone_contacts)"
      ],
      "metadata": {
        "colab": {
          "base_uri": "https://localhost:8080/"
        },
        "id": "b5BLDD4CIeo_",
        "outputId": "4209178a-48e4-4b9a-b72f-b36f03a4ba26"
      },
      "execution_count": 40,
      "outputs": [
        {
          "output_type": "stream",
          "name": "stdout",
          "text": [
            "{'abul': 1111, 'babul': 2222, 'cabul': 3333, 'dabul': [4444, 5555], 'fabul': 6666, 'gabul': 7777}\n"
          ]
        }
      ]
    },
    {
      "cell_type": "code",
      "source": [
        "# removing a contact from the phonebook\n",
        "del phone_contacts[\"gabul\"]\n",
        "print(phone_contacts)"
      ],
      "metadata": {
        "colab": {
          "base_uri": "https://localhost:8080/"
        },
        "id": "2QTf2AkBIeu2",
        "outputId": "de32de32-c143-4757-884d-90b68f65680e"
      },
      "execution_count": 41,
      "outputs": [
        {
          "output_type": "stream",
          "name": "stdout",
          "text": [
            "{'abul': 1111, 'babul': 2222, 'cabul': 3333, 'dabul': [4444, 5555], 'fabul': 6666}\n"
          ]
        }
      ]
    },
    {
      "cell_type": "markdown",
      "source": [
        "#### Summary\n",
        "- List - indexed storage\n",
        "- Dictionary - Logical Association storage\n",
        "- Tuple - Memory optimized and Secure data storage\n",
        "- Set - unindexed data storage, widely useful for removing redundancy and mathematics ops"
      ],
      "metadata": {
        "id": "tS6BsouUnqhG"
      }
    }
  ]
}