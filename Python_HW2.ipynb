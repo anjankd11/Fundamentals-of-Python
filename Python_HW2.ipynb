{
  "nbformat": 4,
  "nbformat_minor": 0,
  "metadata": {
    "colab": {
      "name": "Python_HW2.ipynb",
      "provenance": []
    },
    "kernelspec": {
      "name": "python3",
      "display_name": "Python 3"
    },
    "language_info": {
      "name": "python"
    }
  },
  "cells": [
    {
      "cell_type": "markdown",
      "source": [
        "#              Fundamental of Programming with Python Course\n",
        "#                                  Homework 2\n",
        "#                              Problems of LeetCode"
      ],
      "metadata": {
        "id": "HaXcV_AAuwro"
      }
    },
    {
      "cell_type": "code",
      "execution_count": null,
      "metadata": {
        "id": "kB-hggAxuVpr"
      },
      "outputs": [],
      "source": [
        "#Problem 1\n",
        "#Given an integer array nums, find three numbers whose product is maximum and return the maximum product.\n",
        "\n",
        "class Solution:\n",
        "    def maximumProduct(self, nums: List[int]) -> int:\n",
        "        \n",
        "        #sorting the list in ascending order\n",
        "        nums.sort()   \n",
        "        lenght=len(nums)\n",
        "        #the max product will either be the product of last three largest number\n",
        "        max1= nums[0]*nums[1]*nums[lenght-1] \n",
        "        #or the max product will be the smallest two negative numbers and the largest positive number\n",
        "        max2=nums[lenght-3]*nums[lenght-2]*nums[lenght-1]\n",
        "        if (max1>max2):\n",
        "            return max1\n",
        "        else:\n",
        "            return max2"
      ]
    },
    {
      "cell_type": "code",
      "source": [
        "#Problem 2\n",
        "#You are given an m x n integer grid accounts where accounts[i][j] is the amount of money the i​​​​​​​​​​​th​​​​ customer has in the j​​​​​​​​​​​th​​​​ bank. Return the wealth that the richest customer has.\n",
        "\n",
        "class Solution:\n",
        "    def maximumWealth(self, accounts: List[List[int]]) -> int:\n",
        "        \n",
        "        #let us assume the variable for maximum wealth is 0 in the beginning\n",
        "        max_wealth=0\n",
        "        \n",
        "        #lets iterate every row of acccounts and sum the value in every column, so we get the            total wealth of each person \n",
        "        for i in accounts: \n",
        "            wealth=sum(i)\n",
        "            \n",
        "            #compare the maximum and the current wealth and replace with thr greater\n",
        "            max_wealth=max(max_wealth,wealth)\n",
        "        \n",
        "        return max_wealth"
      ],
      "metadata": {
        "id": "GzZUJdKMvnTp"
      },
      "execution_count": null,
      "outputs": []
    },
    {
      "cell_type": "code",
      "source": [
        "#Problem 3\n",
        "#Given the array nums consisting of 2n elements in the form [x1,x2,...,xn,y1,y2,...,yn]. Return the array in the form [x1,y1,x2,y2,...,xn,yn].\n",
        "\n",
        "class Solution:\n",
        "    def shuffle(self, nums: List[int], n: int) -> List[int]:\n",
        "        \n",
        "        #defining a new list to sort the data in the commanded way\n",
        "        new_list=[]\n",
        "        \n",
        "        #this loop will take one by one number from the previous list and add it to the new list in the mentioned order\n",
        "        for i in range(n):\n",
        "            new_list.append(nums[i])\n",
        "            new_list.append(nums[n+i])\n",
        "            \n",
        "        return new_list\n"
      ],
      "metadata": {
        "id": "aViWOAfVv3Su"
      },
      "execution_count": null,
      "outputs": []
    },
    {
      "cell_type": "code",
      "source": [
        "#Problem 4\n",
        "#Given a positive integer num, write a function which returns True if num is a perfect square else False.\n",
        "\n",
        "class Solution:\n",
        "    def isPerfectSquare(self, num: int) -> bool:\n",
        "        #starting from 1 we will keep checking the square of every number , if any square      matches return true \n",
        "        i=1\n",
        "        while i*i<num:\n",
        "            i=i+1\n",
        "        return i*i==num"
      ],
      "metadata": {
        "id": "5pgjyNaZy-VQ"
      },
      "execution_count": null,
      "outputs": []
    }
  ]
}