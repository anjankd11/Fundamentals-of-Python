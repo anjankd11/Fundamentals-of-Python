{
  "nbformat": 4,
  "nbformat_minor": 0,
  "metadata": {
    "colab": {
      "name": "Lecture 03: Python Data Types and String Manipulation",
      "provenance": [],
      "collapsed_sections": []
    },
    "kernelspec": {
      "name": "python3",
      "display_name": "Python 3"
    },
    "language_info": {
      "name": "python"
    }
  },
  "cells": [
    {
      "cell_type": "markdown",
      "source": [
        "# Lecture 03: Python Data Types and String Manipulation\n",
        "\n"
      ],
      "metadata": {
        "id": "RPo9iWFO2nEn"
      }
    },
    {
      "cell_type": "markdown",
      "source": [
        "**str** : string, text\n",
        "<br>**int** : inetger numbers\n",
        "<br>**float** : real numbers, decimal values\n",
        "<br>**bool** : True, False"
      ],
      "metadata": {
        "id": "pbtfPN7o3NxN"
      }
    },
    {
      "cell_type": "code",
      "source": [
        "name = \"Ronaldo\"\n",
        "print(\"my favorite player is\" , name)\n",
        "\n",
        "print (type(name))"
      ],
      "metadata": {
        "id": "tYkP-3Ak3SVx",
        "outputId": "de65eb8e-4f47-42e7-e08d-33fc3b880dfb",
        "colab": {
          "base_uri": "https://localhost:8080/"
        }
      },
      "execution_count": null,
      "outputs": [
        {
          "output_type": "stream",
          "name": "stdout",
          "text": [
            "my favorite player is Ronaldo\n",
            "<class 'str'>\n"
          ]
        }
      ]
    },
    {
      "cell_type": "markdown",
      "source": [
        "#### Mathematical Operations"
      ],
      "metadata": {
        "id": "VXFfTU4z3pIV"
      }
    },
    {
      "cell_type": "code",
      "source": [
        "a=9\n",
        "b=3\n",
        "\n",
        "#addition\n",
        "print(\"a+b=\", a+b)\n",
        "\n",
        "#power\n",
        "print(\"a^b=\", a**b)\n",
        "\n",
        "#vagshesh %\n",
        "#vaagfol\n",
        "print (\"a/b=\",a//b)"
      ],
      "metadata": {
        "id": "sHlbJ7zq3rPX",
        "outputId": "90948566-f639-4abb-d100-de0c209961c9",
        "colab": {
          "base_uri": "https://localhost:8080/"
        }
      },
      "execution_count": null,
      "outputs": [
        {
          "output_type": "stream",
          "name": "stdout",
          "text": [
            "a+b= 12\n",
            "a^b= 729\n",
            "a/b= 3\n"
          ]
        }
      ]
    },
    {
      "cell_type": "code",
      "source": [
        ""
      ],
      "metadata": {
        "id": "9OyLeyrT3rxN"
      },
      "execution_count": null,
      "outputs": []
    },
    {
      "cell_type": "markdown",
      "source": [
        "#### Comparison Operators"
      ],
      "metadata": {
        "id": "JqykIP3X3sPO"
      }
    },
    {
      "cell_type": "code",
      "source": [
        "c=52\n",
        "d=53\n",
        "\n",
        "print(\"c>d=\" ,c>d)\n",
        "print(\"c<d=\" ,c<d)\n",
        "print(\"c!=d=\" ,c!=d)"
      ],
      "metadata": {
        "id": "DCKnf-s43vUe",
        "outputId": "64a823f9-80d3-4d88-8222-05a4ace71004",
        "colab": {
          "base_uri": "https://localhost:8080/"
        }
      },
      "execution_count": null,
      "outputs": [
        {
          "output_type": "stream",
          "name": "stdout",
          "text": [
            "c>d= False\n",
            "c<d= True\n",
            "c!=d= True\n"
          ]
        }
      ]
    },
    {
      "cell_type": "markdown",
      "source": [
        "#### Logical operators"
      ],
      "metadata": {
        "id": "Ir6PPHIm3wF6"
      }
    },
    {
      "cell_type": "code",
      "source": [
        "#and , or\n",
        "\n",
        "print(True and True)\n",
        "print(True and False)\n",
        "print(False and True)\n",
        "\n",
        "print(True or True)\n",
        "print(True or False)\n",
        "print(not False and False)"
      ],
      "metadata": {
        "id": "2E0-Cuih31yh",
        "outputId": "d121119f-9c88-4252-bd7a-76bdf4402080",
        "colab": {
          "base_uri": "https://localhost:8080/"
        }
      },
      "execution_count": null,
      "outputs": [
        {
          "output_type": "stream",
          "name": "stdout",
          "text": [
            "True\n",
            "False\n",
            "False\n",
            "True\n",
            "True\n",
            "False\n"
          ]
        }
      ]
    },
    {
      "cell_type": "markdown",
      "source": [
        "#### Membership operators"
      ],
      "metadata": {
        "id": "PT3epyIy32N3"
      }
    },
    {
      "cell_type": "code",
      "source": [
        "a= 'abul'\n",
        "b='babul'\n",
        "\n",
        "print (a in b)\n",
        "print (b in a)"
      ],
      "metadata": {
        "id": "Qnc3tGJQ36S1",
        "outputId": "7d78baba-49ac-44b3-e376-de101cdbb406",
        "colab": {
          "base_uri": "https://localhost:8080/"
        }
      },
      "execution_count": null,
      "outputs": [
        {
          "output_type": "stream",
          "name": "stdout",
          "text": [
            "True\n",
            "False\n"
          ]
        }
      ]
    },
    {
      "cell_type": "markdown",
      "source": [
        "#### String Manipulation\n",
        "- How to capitalize the first character of a string?"
      ],
      "metadata": {
        "id": "KOp4aqNez1YL"
      }
    },
    {
      "cell_type": "code",
      "source": [
        "name = \"ronaldo\"\n",
        "\n",
        "name_first_capital=name.capitalize()\n",
        "name_all_capital= name.upper()\n",
        "print(name_all_capital)\n",
        "print(name_first_capital)"
      ],
      "metadata": {
        "id": "N3JF3EVHzxqz",
        "outputId": "c436c96e-053d-43f8-be9c-7716fbae8c4c",
        "colab": {
          "base_uri": "https://localhost:8080/"
        }
      },
      "execution_count": null,
      "outputs": [
        {
          "output_type": "stream",
          "name": "stdout",
          "text": [
            "RONALDO\n",
            "Ronaldo\n"
          ]
        }
      ]
    },
    {
      "cell_type": "markdown",
      "source": [
        "- How to find the frequency of the substring in a string?"
      ],
      "metadata": {
        "id": "gYcrwKZW0iu8"
      }
    },
    {
      "cell_type": "code",
      "source": [
        "name_count=name.count('o')\n",
        "print(name_count)"
      ],
      "metadata": {
        "id": "t0wn6ZNRzxxP",
        "outputId": "8cafb4ad-eb73-4a03-d319-27b9bf748e5e",
        "colab": {
          "base_uri": "https://localhost:8080/"
        }
      },
      "execution_count": null,
      "outputs": [
        {
          "output_type": "stream",
          "name": "stdout",
          "text": [
            "2\n"
          ]
        }
      ]
    },
    {
      "cell_type": "markdown",
      "source": [
        "\n",
        "- How to find if a string starts or ends with a specific substring?"
      ],
      "metadata": {
        "id": "Q2STTCkO0k-L"
      }
    },
    {
      "cell_type": "code",
      "source": [
        "name='Ronaldo'\n",
        "print(name.startswith(\"R\"))\n",
        "print(name.endswith(\"k\"))"
      ],
      "metadata": {
        "id": "_WnxOORvzyKE",
        "outputId": "c259c63b-7750-4e81-9b27-123de4df46e9",
        "colab": {
          "base_uri": "https://localhost:8080/"
        }
      },
      "execution_count": null,
      "outputs": [
        {
          "output_type": "stream",
          "name": "stdout",
          "text": [
            "True\n",
            "False\n"
          ]
        }
      ]
    },
    {
      "cell_type": "markdown",
      "source": [
        "\n",
        "- How to find the index of a specific character in a string?"
      ],
      "metadata": {
        "id": "N1ko6f9u0qXA"
      }
    },
    {
      "cell_type": "code",
      "source": [
        "text = \"Happy New Year\"\n",
        "\n",
        "print(text.find(\"p\"))\n",
        "print(text.index(\"a\"))"
      ],
      "metadata": {
        "id": "F2jQZws9zyNF",
        "colab": {
          "base_uri": "https://localhost:8080/"
        },
        "outputId": "f07bd069-4b9b-4767-839f-2f91fe65f5ac"
      },
      "execution_count": 1,
      "outputs": [
        {
          "output_type": "stream",
          "name": "stdout",
          "text": [
            "2\n",
            "1\n"
          ]
        }
      ]
    },
    {
      "cell_type": "markdown",
      "source": [
        "\n",
        "- How to convert a string into lower case and upper case characters?\n"
      ],
      "metadata": {
        "id": "VWIn_WJp0s0R"
      }
    },
    {
      "cell_type": "code",
      "source": [
        "name = \"ShakibAlHasan\"\n",
        "\n",
        "print(name.lower())\n",
        "print(name.upper())\n",
        "\n",
        "print(\"electrical engineering\" == \"Electrical Engineering\".lower())\n",
        "print(\"electrical engineering \".rstrip() == \"Electrical Engineering\".lower())\n",
        "print(\"   electrical engineering\".lstrip() == \"Electrical Engineering\".lower())"
      ],
      "metadata": {
        "id": "5GY9xut-zyRD",
        "colab": {
          "base_uri": "https://localhost:8080/"
        },
        "outputId": "cf6a543f-5bae-4848-947f-5b6f47f17572"
      },
      "execution_count": 3,
      "outputs": [
        {
          "output_type": "stream",
          "name": "stdout",
          "text": [
            "shakibalhasan\n",
            "SHAKIBALHASAN\n",
            "True\n",
            "True\n",
            "True\n"
          ]
        }
      ]
    },
    {
      "cell_type": "markdown",
      "source": [
        "\n",
        "- How to remove spaces from a string?"
      ],
      "metadata": {
        "id": "OoyvIzgX0xgK"
      }
    },
    {
      "cell_type": "code",
      "source": [
        ""
      ],
      "metadata": {
        "id": "oRxmJdYqzyTo"
      },
      "execution_count": null,
      "outputs": []
    },
    {
      "cell_type": "markdown",
      "source": [
        "\n",
        "- How to replace a substring inside a string?\n"
      ],
      "metadata": {
        "id": "2nv15dSl0z1B"
      }
    },
    {
      "cell_type": "code",
      "source": [
        "text = \"Electrical Enginering\"\n",
        "\n",
        "print(text.replace(\"Enginering\", \"Engineering\"))"
      ],
      "metadata": {
        "id": "685H-nkkzyV8",
        "colab": {
          "base_uri": "https://localhost:8080/"
        },
        "outputId": "ee820c41-e486-4fa9-b584-e613fa38e27a"
      },
      "execution_count": 4,
      "outputs": [
        {
          "output_type": "stream",
          "name": "stdout",
          "text": [
            "Electrical Engineering\n"
          ]
        }
      ]
    },
    {
      "cell_type": "markdown",
      "source": [
        "- How to find the presence of an alphanumeric character, alphabet or digit?"
      ],
      "metadata": {
        "id": "PRL4pSo402h9"
      }
    },
    {
      "cell_type": "code",
      "source": [
        "name = \"shakibalhasan\"\n",
        "\n",
        "print(name.isalnum())\n",
        "print(name.isdigit())\n",
        "print(name.isalpha())\n",
        "print(name.isupper())\n",
        "print(name.islower())"
      ],
      "metadata": {
        "id": "8qsLA0ee04oR",
        "colab": {
          "base_uri": "https://localhost:8080/"
        },
        "outputId": "77f34997-aa3d-4faf-e0f5-75a5ecd19324"
      },
      "execution_count": 5,
      "outputs": [
        {
          "output_type": "stream",
          "name": "stdout",
          "text": [
            "True\n",
            "False\n",
            "True\n",
            "False\n",
            "True\n"
          ]
        }
      ]
    },
    {
      "cell_type": "markdown",
      "source": [
        "#### String slicing"
      ],
      "metadata": {
        "id": "OYnKrQBh0dIY"
      }
    },
    {
      "cell_type": "code",
      "source": [
        "var = \"I love Bangladesh\"\n",
        "\n",
        "print(var)\n",
        "print(var[0])\n",
        "print(var[2:6])\n",
        "print(len(var))\n",
        "print(var[7:])\n",
        "\n"
      ],
      "metadata": {
        "id": "FQMGLSnQ0et8",
        "outputId": "4696827b-212f-4877-b5c9-779b5564df79",
        "colab": {
          "base_uri": "https://localhost:8080/"
        }
      },
      "execution_count": null,
      "outputs": [
        {
          "output_type": "stream",
          "name": "stdout",
          "text": [
            "I love Bangladesh\n",
            "I\n",
            "love\n",
            "17\n",
            "Bangladesh\n"
          ]
        }
      ]
    }
  ]
}