{
  "nbformat": 4,
  "nbformat_minor": 0,
  "metadata": {
    "colab": {
      "name": "Lecture 03: Python Data Types and String Manipulation",
      "provenance": [],
      "collapsed_sections": []
    },
    "kernelspec": {
      "name": "python3",
      "display_name": "Python 3"
    },
    "language_info": {
      "name": "python"
    }
  },
  "cells": [
    {
      "cell_type": "markdown",
      "source": [
        "# Lecture 03: Python Data Types and String Manipulation\n",
        "\n"
      ],
      "metadata": {
        "id": "RPo9iWFO2nEn"
      }
    },
    {
      "cell_type": "markdown",
      "source": [
        "**str** : string, text\n",
        "<br>**int** : inetger numbers\n",
        "<br>**float** : real numbers, decimal values\n",
        "<br>**bool** : True, False"
      ],
      "metadata": {
        "id": "pbtfPN7o3NxN"
      }
    },
    {
      "cell_type": "code",
      "source": [
        "name = \"Ronaldo\"\n",
        "print(\"my favorite player is\" , name)\n",
        "\n",
        "print (type(name))"
      ],
      "metadata": {
        "id": "tYkP-3Ak3SVx",
        "outputId": "dbaf9ec9-a382-46cd-d7c5-074d036657c1",
        "colab": {
          "base_uri": "https://localhost:8080/"
        }
      },
      "execution_count": 7,
      "outputs": [
        {
          "output_type": "stream",
          "name": "stdout",
          "text": [
            "my favorite player is Ronaldo\n",
            "<class 'str'>\n"
          ]
        }
      ]
    },
    {
      "cell_type": "markdown",
      "source": [
        "#### Mathematical Operations"
      ],
      "metadata": {
        "id": "VXFfTU4z3pIV"
      }
    },
    {
      "cell_type": "code",
      "source": [
        "a=9\n",
        "b=3\n",
        "\n",
        "#addition\n",
        "print(\"a+b=\", a+b)\n",
        "\n",
        "#power\n",
        "print(\"a^b=\", a**b)\n",
        "\n",
        "#vagshesh %\n",
        "#vaagfol\n",
        "print (\"a/b=\",a//b)"
      ],
      "metadata": {
        "id": "sHlbJ7zq3rPX",
        "outputId": "3d2221ff-000c-4495-e8dc-61052c9f8e4a",
        "colab": {
          "base_uri": "https://localhost:8080/"
        }
      },
      "execution_count": 8,
      "outputs": [
        {
          "output_type": "stream",
          "name": "stdout",
          "text": [
            "a+b= 12\n",
            "a^b= 729\n",
            "a/b= 3\n"
          ]
        }
      ]
    },
    {
      "cell_type": "markdown",
      "source": [
        "#### Comparison Operators"
      ],
      "metadata": {
        "id": "JqykIP3X3sPO"
      }
    },
    {
      "cell_type": "code",
      "source": [
        "c=52\n",
        "d=53\n",
        "\n",
        "print(\"c>d=\" ,c>d)\n",
        "print(\"c<d=\" ,c<d)\n",
        "print(\"c!=d=\" ,c!=d)"
      ],
      "metadata": {
        "id": "DCKnf-s43vUe",
        "outputId": "dc0826dc-ac73-48ea-bc91-f74a9fc3b557",
        "colab": {
          "base_uri": "https://localhost:8080/"
        }
      },
      "execution_count": 9,
      "outputs": [
        {
          "output_type": "stream",
          "name": "stdout",
          "text": [
            "c>d= False\n",
            "c<d= True\n",
            "c!=d= True\n"
          ]
        }
      ]
    },
    {
      "cell_type": "markdown",
      "source": [
        "#### Logical operators"
      ],
      "metadata": {
        "id": "Ir6PPHIm3wF6"
      }
    },
    {
      "cell_type": "code",
      "source": [
        "#and , or\n",
        "\n",
        "print(True and True)\n",
        "print(True and False)\n",
        "print(False and True)\n",
        "\n",
        "print(True or True)\n",
        "print(True or False)\n",
        "print(not False and False)"
      ],
      "metadata": {
        "id": "2E0-Cuih31yh",
        "outputId": "297b6f85-5f10-4fd7-edbe-011ce665d34b",
        "colab": {
          "base_uri": "https://localhost:8080/"
        }
      },
      "execution_count": 10,
      "outputs": [
        {
          "output_type": "stream",
          "name": "stdout",
          "text": [
            "True\n",
            "False\n",
            "False\n",
            "True\n",
            "True\n",
            "False\n"
          ]
        }
      ]
    },
    {
      "cell_type": "markdown",
      "source": [
        "#### Membership operators"
      ],
      "metadata": {
        "id": "PT3epyIy32N3"
      }
    },
    {
      "cell_type": "code",
      "source": [
        "a= 'abul'\n",
        "b='babul'\n",
        "\n",
        "print (a in b)\n",
        "print (b in a)"
      ],
      "metadata": {
        "id": "Qnc3tGJQ36S1",
        "outputId": "02449130-46da-4255-e503-0d9c4dea1ac8",
        "colab": {
          "base_uri": "https://localhost:8080/"
        }
      },
      "execution_count": 11,
      "outputs": [
        {
          "output_type": "stream",
          "name": "stdout",
          "text": [
            "True\n",
            "False\n"
          ]
        }
      ]
    },
    {
      "cell_type": "markdown",
      "source": [
        "#### String Manipulation\n",
        "- How to capitalize the first character of a string?"
      ],
      "metadata": {
        "id": "KOp4aqNez1YL"
      }
    },
    {
      "cell_type": "code",
      "source": [
        "name = \"ronaldo\"\n",
        "\n",
        "name_first_capital=name.capitalize()\n",
        "name_all_capital= name.upper()\n",
        "print(name_all_capital)\n",
        "print(name_first_capital)"
      ],
      "metadata": {
        "id": "N3JF3EVHzxqz",
        "outputId": "58b2e6cf-507d-477b-b363-2e30a0a976d9",
        "colab": {
          "base_uri": "https://localhost:8080/"
        }
      },
      "execution_count": 12,
      "outputs": [
        {
          "output_type": "stream",
          "name": "stdout",
          "text": [
            "RONALDO\n",
            "Ronaldo\n"
          ]
        }
      ]
    },
    {
      "cell_type": "markdown",
      "source": [
        "- How to find the frequency of the substring in a string?"
      ],
      "metadata": {
        "id": "gYcrwKZW0iu8"
      }
    },
    {
      "cell_type": "code",
      "source": [
        "name_count=name.count('o')\n",
        "print(name_count)"
      ],
      "metadata": {
        "id": "t0wn6ZNRzxxP",
        "outputId": "c8ab0fe1-2683-4fe0-ada6-a9e4a6d7c00a",
        "colab": {
          "base_uri": "https://localhost:8080/"
        }
      },
      "execution_count": 13,
      "outputs": [
        {
          "output_type": "stream",
          "name": "stdout",
          "text": [
            "2\n"
          ]
        }
      ]
    },
    {
      "cell_type": "markdown",
      "source": [
        "\n",
        "- How to find if a string starts or ends with a specific substring?"
      ],
      "metadata": {
        "id": "Q2STTCkO0k-L"
      }
    },
    {
      "cell_type": "code",
      "source": [
        "name='Ronaldo'\n",
        "print(name.startswith(\"R\"))\n",
        "print(name.endswith(\"k\"))"
      ],
      "metadata": {
        "id": "_WnxOORvzyKE",
        "outputId": "2d611b90-38fe-4e2c-b669-6134d7215ff1",
        "colab": {
          "base_uri": "https://localhost:8080/"
        }
      },
      "execution_count": 14,
      "outputs": [
        {
          "output_type": "stream",
          "name": "stdout",
          "text": [
            "True\n",
            "False\n"
          ]
        }
      ]
    },
    {
      "cell_type": "markdown",
      "source": [
        "\n",
        "- How to find the index of a specific character in a string?"
      ],
      "metadata": {
        "id": "N1ko6f9u0qXA"
      }
    },
    {
      "cell_type": "code",
      "source": [
        "text = \"Happy New Year\"\n",
        "\n",
        "print(text.find(\"p\"))\n",
        "print(text.index(\"a\"))"
      ],
      "metadata": {
        "id": "F2jQZws9zyNF",
        "colab": {
          "base_uri": "https://localhost:8080/"
        },
        "outputId": "75ee76b0-717c-407b-e5c3-0732bddaa9ab"
      },
      "execution_count": 15,
      "outputs": [
        {
          "output_type": "stream",
          "name": "stdout",
          "text": [
            "2\n",
            "1\n"
          ]
        }
      ]
    },
    {
      "cell_type": "markdown",
      "source": [
        "\n",
        "- How to convert a string into lower case and upper case characters?\n"
      ],
      "metadata": {
        "id": "VWIn_WJp0s0R"
      }
    },
    {
      "cell_type": "code",
      "source": [
        "name = \"ShakibAlHasan\"\n",
        "\n",
        "print(name.lower())\n",
        "print(name.upper())\n",
        "\n",
        "print(\"electrical engineering\" == \"Electrical Engineering\".lower())\n",
        "print(\"electrical engineering \".rstrip() == \"Electrical Engineering\".lower())\n",
        "print(\"   electrical engineering\".lstrip() == \"Electrical Engineering\".lower())"
      ],
      "metadata": {
        "id": "5GY9xut-zyRD",
        "colab": {
          "base_uri": "https://localhost:8080/"
        },
        "outputId": "906a0e1e-0a19-4212-adb4-18c6af60ba18"
      },
      "execution_count": 16,
      "outputs": [
        {
          "output_type": "stream",
          "name": "stdout",
          "text": [
            "shakibalhasan\n",
            "SHAKIBALHASAN\n",
            "True\n",
            "True\n",
            "True\n"
          ]
        }
      ]
    },
    {
      "cell_type": "markdown",
      "source": [
        "\n",
        "- How to replace a substring inside a string?\n"
      ],
      "metadata": {
        "id": "2nv15dSl0z1B"
      }
    },
    {
      "cell_type": "code",
      "source": [
        "text = \"Electrical Enginering\"\n",
        "\n",
        "print(text.replace(\"Enginering\", \"Engineering\"))"
      ],
      "metadata": {
        "id": "685H-nkkzyV8",
        "colab": {
          "base_uri": "https://localhost:8080/"
        },
        "outputId": "6e1d0069-c1db-4e94-f071-b9c1304a5b3b"
      },
      "execution_count": 17,
      "outputs": [
        {
          "output_type": "stream",
          "name": "stdout",
          "text": [
            "Electrical Engineering\n"
          ]
        }
      ]
    },
    {
      "cell_type": "markdown",
      "source": [
        "- How to find the presence of an alphanumeric character, alphabet or digit?"
      ],
      "metadata": {
        "id": "PRL4pSo402h9"
      }
    },
    {
      "cell_type": "code",
      "source": [
        "name = \"shakibalhasan\"\n",
        "\n",
        "print(name.isalnum())\n",
        "print(name.isdigit())\n",
        "print(name.isalpha())\n",
        "print(name.isupper())\n",
        "print(name.islower())"
      ],
      "metadata": {
        "id": "8qsLA0ee04oR",
        "colab": {
          "base_uri": "https://localhost:8080/"
        },
        "outputId": "f82ff48e-651d-4f3f-ab83-5bb432558336"
      },
      "execution_count": 18,
      "outputs": [
        {
          "output_type": "stream",
          "name": "stdout",
          "text": [
            "True\n",
            "False\n",
            "True\n",
            "False\n",
            "True\n"
          ]
        }
      ]
    },
    {
      "cell_type": "markdown",
      "source": [
        "#### String slicing"
      ],
      "metadata": {
        "id": "OYnKrQBh0dIY"
      }
    },
    {
      "cell_type": "code",
      "source": [
        "var = \"I love Bangladesh\"\n",
        "\n",
        "print(var)\n",
        "print(var[0])\n",
        "print(var[2:6])\n",
        "print(len(var))\n",
        "print(var[7:])\n",
        "\n"
      ],
      "metadata": {
        "id": "FQMGLSnQ0et8",
        "outputId": "219b79c5-b578-43ab-cc58-94ad55e0c57c",
        "colab": {
          "base_uri": "https://localhost:8080/"
        }
      },
      "execution_count": 19,
      "outputs": [
        {
          "output_type": "stream",
          "name": "stdout",
          "text": [
            "I love Bangladesh\n",
            "I\n",
            "love\n",
            "17\n",
            "Bangladesh\n"
          ]
        }
      ]
    }
  ]
}